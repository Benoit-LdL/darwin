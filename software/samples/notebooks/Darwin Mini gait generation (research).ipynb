{
 "cells": [
  {
   "cell_type": "markdown",
   "metadata": {},
   "source": [
    "# Darwin Mini gait generation (research)"
   ]
  },
  {
   "cell_type": "code",
   "execution_count": 1,
   "metadata": {},
   "outputs": [],
   "source": [
    "# Import some matplolib and numpy shortcuts for Jupyter notebook\n",
    "from __future__ import print_function\n",
    "\n",
    "import numpy as np\n",
    "import matplotlib.pyplot as plt\n",
    "%matplotlib inline"
   ]
  },
  {
   "cell_type": "markdown",
   "metadata": {},
   "source": [
    "## Gait generation"
   ]
  },
  {
   "cell_type": "markdown",
   "metadata": {},
   "source": [
    "Try to generate a step, by moving the joints manually."
   ]
  },
  {
   "cell_type": "code",
   "execution_count": 3,
   "metadata": {},
   "outputs": [],
   "source": [
    "import time"
   ]
  },
  {
   "cell_type": "code",
   "execution_count": 4,
   "metadata": {},
   "outputs": [],
   "source": [
    "def bend(a, side):\n",
    "    assert side in ['l', 'r']\n",
    "    o = 1 if side == 'l' else -1\n",
    "    darwin.__dict__[side + '_thigh_joint'].goal_position = o*a\n",
    "    darwin.__dict__[side + '_knee_joint'].goal_position = -o*a"
   ]
  },
  {
   "cell_type": "code",
   "execution_count": 5,
   "metadata": {},
   "outputs": [],
   "source": [
    "def incline(a):\n",
    "    darwin.l_hip_joint.goal_position = a\n",
    "    darwin.r_hip_joint.goal_position = a\n",
    "    darwin.l_foot_joint.goal_position = -a\n",
    "    darwin.r_foot_joint.goal_position = -a"
   ]
  },
  {
   "cell_type": "code",
   "execution_count": 36,
   "metadata": {},
   "outputs": [],
   "source": [
    "def rest():\n",
    "    bend(0, 'l')\n",
    "    bend(0, 'r')\n",
    "    darwin.l_ankle_joint.goal_position = 0\n",
    "    darwin.r_ankle_joint.goal_position = 0\n",
    "    incline(0)\n",
    "    darwin.l_shoulder_joint.goal_position = 0\n",
    "    darwin.r_shoulder_joint.goal_position = 0\n",
    "    darwin.l_biceps_joint.goal_position = 0\n",
    "    darwin.r_biceps_joint.goal_position = 0"
   ]
  },
  {
   "cell_type": "code",
   "execution_count": 38,
   "metadata": {},
   "outputs": [],
   "source": [
    "incline(30)"
   ]
  },
  {
   "cell_type": "code",
   "execution_count": 34,
   "metadata": {},
   "outputs": [],
   "source": [
    "bend(60, 'l')"
   ]
  },
  {
   "cell_type": "code",
   "execution_count": 35,
   "metadata": {},
   "outputs": [],
   "source": [
    "bend(20, 'r')"
   ]
  },
  {
   "cell_type": "code",
   "execution_count": 30,
   "metadata": {},
   "outputs": [],
   "source": [
    "rest()"
   ]
  },
  {
   "cell_type": "code",
   "execution_count": 100,
   "metadata": {},
   "outputs": [],
   "source": [
    "def leg_fwd(side):\n",
    "    assert side in ['l', 'r']\n",
    "    o = 1 if side == 'l' else -1\n",
    "    for i in range(3):\n",
    "        darwin.l_thigh_joint.goal_position = 10*o*(i+1)\n",
    "        darwin.l_knee_joint.goal_position = -10*o*(i+1)\n",
    "        #darwin.l_ankle_joint.goal_position = 2*(0.5*o+0.5)*i\n",
    "        darwin.r_thigh_joint.goal_position = 10*o*(i+1)\n",
    "        darwin.r_knee_joint.goal_position = -10*o*(i+1)\n",
    "        #darwin.r_ankle_joint.goal_position = 2*(0.5*o+0.5)*i\n",
    "        time.sleep(.2)"
   ]
  },
  {
   "cell_type": "code",
   "execution_count": 106,
   "metadata": {},
   "outputs": [],
   "source": [
    "for i in range(6):\n",
    "    incline(10)\n",
    "    time.sleep(.2)\n",
    "    leg_fwd('l')\n",
    "    incline(0)\n",
    "    time.sleep(.2)\n",
    "    incline(-10)\n",
    "    time.sleep(.2)\n",
    "    leg_fwd('r')\n",
    "    incline(0)\n",
    "    time.sleep(.2)\n",
    "rest()"
   ]
  },
  {
   "cell_type": "code",
   "execution_count": 103,
   "metadata": {},
   "outputs": [],
   "source": [
    "darwin.l_thigh_joint.goal_position = 20\n",
    "darwin.l_knee_joint.goal_position = -10\n",
    "darwin.l_ankle_joint.goal_position = 10"
   ]
  },
  {
   "cell_type": "code",
   "execution_count": 10,
   "metadata": {},
   "outputs": [],
   "source": [
    "incline(25)"
   ]
  },
  {
   "cell_type": "code",
   "execution_count": 110,
   "metadata": {},
   "outputs": [],
   "source": [
    "darwin.l_thigh_joint.goal_position = 20"
   ]
  },
  {
   "cell_type": "code",
   "execution_count": 112,
   "metadata": {},
   "outputs": [],
   "source": [
    "darwin.r_shoulder_joint.goal_position = -30"
   ]
  },
  {
   "cell_type": "code",
   "execution_count": 113,
   "metadata": {},
   "outputs": [],
   "source": [
    "darwin.l_hip_joint.goal_position = 30"
   ]
  },
  {
   "cell_type": "code",
   "execution_count": 114,
   "metadata": {},
   "outputs": [],
   "source": [
    "darwin.r_hip_joint.goal_position = -10"
   ]
  },
  {
   "cell_type": "code",
   "execution_count": 115,
   "metadata": {},
   "outputs": [],
   "source": [
    "incline(0)\n",
    "darwin.r_shoulder_joint.goal_position = 0"
   ]
  },
  {
   "cell_type": "code",
   "execution_count": 116,
   "metadata": {},
   "outputs": [],
   "source": [
    "incline(-10)"
   ]
  },
  {
   "cell_type": "code",
   "execution_count": 117,
   "metadata": {},
   "outputs": [],
   "source": [
    "incline(-20)"
   ]
  },
  {
   "cell_type": "code",
   "execution_count": 118,
   "metadata": {},
   "outputs": [],
   "source": [
    "darwin.r_shoulder_joint.goal_position = 0"
   ]
  },
  {
   "cell_type": "code",
   "execution_count": 122,
   "metadata": {},
   "outputs": [],
   "source": [
    "darwin.r_thigh_joint.goal_position = 10"
   ]
  },
  {
   "cell_type": "code",
   "execution_count": 121,
   "metadata": {},
   "outputs": [],
   "source": [
    "darwin.l_shoulder_joint.goal_position = 10"
   ]
  },
  {
   "cell_type": "code",
   "execution_count": 124,
   "metadata": {},
   "outputs": [],
   "source": [
    "darwin.r_thigh_joint.goal_position = 20"
   ]
  },
  {
   "cell_type": "code",
   "execution_count": 11,
   "metadata": {},
   "outputs": [],
   "source": [
    "a = 25.  # deg\n",
    "t = 1.  # sec\n",
    "n = 8\n",
    "step = a / n\n",
    "dt = t / n\n",
    "for i in range(n):\n",
    "    incline(i*step)\n",
    "    time.sleep(dt)"
   ]
  },
  {
   "cell_type": "code",
   "execution_count": 43,
   "metadata": {},
   "outputs": [],
   "source": [
    "bend(0, 'r')"
   ]
  },
  {
   "cell_type": "code",
   "execution_count": 53,
   "metadata": {},
   "outputs": [
    {
     "name": "stderr",
     "output_type": "stream",
     "text": [
      "Exception in thread Thread-4:\n",
      "Traceback (most recent call last):\n",
      "  File \"/Users/antoinechoppin/.pyenv/versions/3.7.4/lib/python3.7/threading.py\", line 926, in _bootstrap_inner\n",
      "    self.run()\n",
      "  File \"/Users/antoinechoppin/.pyenv/versions/3.7.4/lib/python3.7/threading.py\", line 870, in run\n",
      "    self._target(*self._args, **self._kwargs)\n",
      "  File \"/Users/antoinechoppin/dev/3p/pypot/build/lib/pypot/utils/stoppablethread.py\", line 131, in _wrapped_target\n",
      "    self._target()\n",
      "  File \"/Users/antoinechoppin/dev/3p/pypot/build/lib/pypot/utils/stoppablethread.py\", line 209, in run\n",
      "    make_update_loop(self, self._update)\n",
      "  File \"/Users/antoinechoppin/dev/3p/pypot/build/lib/pypot/utils/stoppablethread.py\", line 179, in make_update_loop\n",
      "    update_func()\n",
      "  File \"/Users/antoinechoppin/dev/3p/pypot/build/lib/pypot/vrep/controller.py\", line 52, in update\n",
      "    streaming=True)\n",
      "  File \"/Users/antoinechoppin/dev/3p/pypot/build/lib/pypot/vrep/io.py\", line 362, in call_remote_api\n",
      "    raise VrepIOErrors(msg)\n",
      "pypot.vrep.io.VrepIOErrors: No value\n",
      "\n"
     ]
    }
   ],
   "source": [
    "rest()"
   ]
  },
  {
   "cell_type": "code",
   "execution_count": 52,
   "metadata": {},
   "outputs": [],
   "source": [
    "incline(25)"
   ]
  },
  {
   "cell_type": "code",
   "execution_count": 46,
   "metadata": {},
   "outputs": [],
   "source": [
    "darwin.l_biceps_joint.goal_position = 30"
   ]
  },
  {
   "cell_type": "code",
   "execution_count": 47,
   "metadata": {},
   "outputs": [],
   "source": [
    "darwin.r_biceps_joint.goal_position = -60"
   ]
  },
  {
   "cell_type": "code",
   "execution_count": 49,
   "metadata": {},
   "outputs": [],
   "source": [
    "darwin.l_knee_joint.goal_position = 30"
   ]
  },
  {
   "cell_type": "code",
   "execution_count": 27,
   "metadata": {},
   "outputs": [],
   "source": [
    "darwin.l_ankle_joint.goal_position = -30"
   ]
  },
  {
   "cell_type": "code",
   "execution_count": 28,
   "metadata": {},
   "outputs": [],
   "source": [
    "darwin.r_ankle_joint.goal_position = -30"
   ]
  },
  {
   "cell_type": "markdown",
   "metadata": {},
   "source": [
    "I'm stopping at this point.\n",
    "\n",
    "It's clear that making the robot walk requires to take into account the dynamics, and not just try to move the feet with static equilibrium.\n",
    "\n",
    "I am looking back to lectures on gait generation for biped robots."
   ]
  },
  {
   "cell_type": "markdown",
   "metadata": {},
   "source": [
    "The overall approach should be something like:\n",
    "\n",
    "- based on a goal position, define hypothetical steps around the trajectory to the goal\n",
    "- have a rough idea of the COM trajectory\n",
    "- for each phase of the walking (DSP - SSP - DSP - SSP), define a trajectory for the joints so that the ZMP always stays within the acceptable area\n",
    "\n",
    "Actually, the following is a great resource, that explains step by step what we need to do:\n",
    "https://scaron.info/teaching/prototyping-a-walking-pattern-generator.html"
   ]
  },
  {
   "cell_type": "markdown",
   "metadata": {},
   "source": [
    "### Forward and inverse kinematics"
   ]
  },
  {
   "cell_type": "markdown",
   "metadata": {},
   "source": [
    "First, let's make sure we can compute feet position from joint configuration (forward kinematics), and required joint configuration to achieve a given feet position (inverse kinematics).\n",
    "\n",
    "We'll try the `ikpy` library which seemed to be used by `poppy_ergo_jr`."
   ]
  },
  {
   "cell_type": "markdown",
   "metadata": {},
   "source": [
    "#### Try the `ikpy` library"
   ]
  },
  {
   "cell_type": "code",
   "execution_count": 11,
   "metadata": {
    "scrolled": true
   },
   "outputs": [],
   "source": [
    "import ikpy\n",
    "from ikpy.chain import Chain\n",
    "from ikpy.URDF_utils import get_chain_from_joints\n",
    "import numpy as np"
   ]
  },
  {
   "cell_type": "markdown",
   "metadata": {},
   "source": [
    "The Darwin Mini robot has 4 link chains (+ the head).\n",
    "\n",
    "The `ikpy` library lets us create each chain from the URDF file, by specifying the chain elements starting from the base link."
   ]
  },
  {
   "cell_type": "code",
   "execution_count": 3,
   "metadata": {},
   "outputs": [],
   "source": [
    "DARWIN_URDF = '../../darwin_mini/darwin.urdf'\n",
    "\n",
    "\n",
    "def get_chain(name_templates, side):\n",
    "    assert side in ['l', 'r']\n",
    "    element_names = ['body_link'] + list(map(lambda s: s.format(side), name_templates))\n",
    "    return Chain.from_urdf_file(DARWIN_URDF, base_elements=element_names)\n",
    "\n",
    "\n",
    "arm_element_names = ['{}_shoulder_joint', '{}_shoulder_link',\n",
    "                     '{}_biceps_joint', '{}_biceps_link',\n",
    "                     '{}_elbow_joint', '{}_hand_link']\n",
    "leg_element_names = ['{}_hip_joint', '{}_hip_link',\n",
    "                     '{}_thigh_joint', '{}_thigh_link',\n",
    "                     '{}_knee_joint', '{}_lowerleg_link',\n",
    "                     '{}_ankle_joint', '{}_ankle_link',\n",
    "                     '{}_foot_joint', '{}_foot_link']\n",
    "\n",
    "left_arm = get_chain(arm_element_names, 'l')\n",
    "right_arm = get_chain(arm_element_names, 'r')\n",
    "left_leg = get_chain(leg_element_names, 'l')\n",
    "right_leg = get_chain(leg_element_names, 'r')"
   ]
  },
  {
   "cell_type": "code",
   "execution_count": 4,
   "metadata": {},
   "outputs": [],
   "source": [
    "d = np.deg2rad(150.)  # default angle = 0 + 150 deg\n",
    "la = np.deg2rad(150. + 90.)  # left biceps angle = 90 + 150 deg\n",
    "ra = np.deg2rad(150. - 90.)  # right biceps angle = -90 + 150 deg"
   ]
  },
  {
   "cell_type": "code",
   "execution_count": 5,
   "metadata": {},
   "outputs": [
    {
     "name": "stdout",
     "output_type": "stream",
     "text": [
      "[-0.014  0.057 -0.014]\n",
      "[-0.014  0.101  0.03 ]\n",
      "[-0.014 -0.057 -0.014]\n",
      "[-0.014 -0.101  0.03 ]\n",
      "[-0.037  0.024 -0.124]\n",
      "[-0.037 -0.024 -0.124]\n"
     ]
    }
   ],
   "source": [
    "print(left_arm.forward_kinematics([None, d, d, d])[:3, 3])\n",
    "print(left_arm.forward_kinematics([None, d, la, d])[:3, 3])\n",
    "print(right_arm.forward_kinematics([None, d, d, d])[:3, 3])\n",
    "print(right_arm.forward_kinematics([None, d, ra, d])[:3, 3])\n",
    "print(left_leg.forward_kinematics([None, d, d, d, d, d])[:3, 3])\n",
    "print(right_leg.forward_kinematics([None, d, d, d, d, d])[:3, 3])"
   ]
  },
  {
   "cell_type": "code",
   "execution_count": 10,
   "metadata": {},
   "outputs": [],
   "source": [
    "%matplotlib inline\n",
    "import matplotlib.pyplot as plt"
   ]
  },
  {
   "cell_type": "code",
   "execution_count": 6,
   "metadata": {},
   "outputs": [],
   "source": [
    "from ikpy import plot_utils"
   ]
  },
  {
   "cell_type": "code",
   "execution_count": 15,
   "metadata": {
    "scrolled": false
   },
   "outputs": [
    {
     "data": {
      "image/png": "[encoded data removed]",
      "text/plain": [
       "<Figure size 432x288 with 1 Axes>"
      ]
     },
     "metadata": {
      "needs_background": "light"
     },
     "output_type": "display_data"
    }
   ],
   "source": [
    "ax = plot_utils.init_3d_figure()\n",
    "left_arm.plot([None, d, d, d], ax)\n",
    "right_arm.plot([None, d, d, d], ax)\n",
    "left_leg.plot([None, d, d, d, d, d], ax)\n",
    "right_leg.plot([None, d, d, d, d, d], ax)"
   ]
  },
  {
   "cell_type": "code",
   "execution_count": 24,
   "metadata": {},
   "outputs": [],
   "source": [
    "import logging\n",
    "import sys\n",
    "\n",
    "logger = logging.getLogger(\"ikpy\")\n",
    "logger.setLevel(logging.DEBUG)\n",
    "\n",
    "# Create STDERR handler\n",
    "handler = logging.StreamHandler(sys.stderr)\n",
    "# ch.setLevel(logging.DEBUG)\n",
    "\n",
    "# Create formatter and add it to the handler\n",
    "formatter = logging.Formatter('%(name)s - %(levelname)s - %(message)s')\n",
    "handler.setFormatter(formatter)\n",
    "\n",
    "# Set STDERR handler as the only handler \n",
    "logger.handlers = [handler]"
   ]
  },
  {
   "cell_type": "code",
   "execution_count": 39,
   "metadata": {
    "scrolled": true
   },
   "outputs": [
    {
     "name": "stderr",
     "output_type": "stream",
     "text": [
      "ikpy - INFO - Inverse kinematic optimisation OK, done in 0 iterations\n"
     ]
    },
    {
     "name": "stdout",
     "output_type": "stream",
     "text": [
      "[[ 1.00000000e+00  4.46722026e-24  1.49452672e-12 -1.40000000e-02]\n",
      " [ 0.00000000e+00  1.00000000e+00 -2.98905345e-12  5.70000000e-02]\n",
      " [-1.49452672e-12  2.98905345e-12  1.00000000e+00 -1.40000000e-02]\n",
      " [ 0.00000000e+00  0.00000000e+00  0.00000000e+00  1.00000000e+00]]\n",
      "[0. 0. 0. 0.]\n",
      "[None, 2.6179938779914944, 2.6179938779914944, 2.6179938779914944]\n"
     ]
    }
   ],
   "source": [
    "print(left_arm.forward_kinematics([None, d, d, d]))\n",
    "#print(left_arm.inverse_kinematics(left_arm.forward_kinematics([None, d, d, d]), max_iter=300))\n",
    "print(left_arm.inverse_kinematics(np.array([[1, 0, 0, -0.014],\n",
    "                                            [0, 1, 0, 0.057],\n",
    "                                            [0, 0, 1, -0.014],\n",
    "                                            [0, 0, 0, 1]]),\n",
    "                                  initial_position=[0, 0, 0, 0]))\n",
    "print([None, d, d, d])"
   ]
  },
  {
   "cell_type": "code",
   "execution_count": 38,
   "metadata": {},
   "outputs": [
    {
     "name": "stdout",
     "output_type": "stream",
     "text": [
      "[[-0.8660254  -0.4330127  -0.25       -0.02705256]\n",
      " [ 0.          0.5        -0.8660254   0.035     ]\n",
      " [ 0.5        -0.75       -0.4330127   0.0193923 ]\n",
      " [ 0.          0.          0.          1.        ]]\n"
     ]
    }
   ],
   "source": [
    "print(left_arm.forward_kinematics([0, 0, 0, 0]))"
   ]
  },
  {
   "cell_type": "code",
   "execution_count": 21,
   "metadata": {},
   "outputs": [
    {
     "name": "stdout",
     "output_type": "stream",
     "text": [
      "Help on method inverse_kinematics in module ikpy.chain:\n",
      "\n",
      "inverse_kinematics(target, initial_position=None, **kwargs) method of ikpy.chain.Chain instance\n",
      "    Computes the inverse kinematic on the specified target\n",
      "    \n",
      "    Parameters\n",
      "    ----------\n",
      "    target: numpy.array\n",
      "        The frame target of the inverse kinematic, in meters. It must be 4x4 transformation matrix\n",
      "    initial_position: numpy.array\n",
      "        Optional : the initial position of each joint of the chain. Defaults to 0 for each joint\n",
      "    \n",
      "    Returns\n",
      "    -------\n",
      "    The list of the positions of each joint according to the target. Note : Inactive joints are in the list.\n",
      "\n"
     ]
    }
   ],
   "source": [
    "help(left_arm.inverse_kinematics)"
   ]
  },
  {
   "cell_type": "markdown",
   "metadata": {},
   "source": [
    "It seems `ikpy` does not work for me.  Not sure why, but it stops the optimization even though the target position is not reached.  I have to find another way."
   ]
  },
  {
   "cell_type": "markdown",
   "metadata": {},
   "source": [
    "I noticed that `pypot` also has some kinematics module (which supports both forward and inverse kinematics), so let's give it a try."
   ]
  },
  {
   "cell_type": "markdown",
   "metadata": {},
   "source": [
    "#### Try the kinematics module of `pypot`"
   ]
  },
  {
   "cell_type": "markdown",
   "metadata": {},
   "source": [
    "It seems we need to express the kinematic chain(s) of the robot using the D-H parameters.\n",
    "\n",
    "Time to remember how to do this.\n",
    "\n",
    "I found a great video that explains it: https://www.youtube.com/watch?v=rA9tm0gTln8"
   ]
  },
  {
   "cell_type": "markdown",
   "metadata": {},
   "source": [
    "CoppeliaSim seems to have a tool to extract D-H parameters:\n",
    "\n",
    "https://forum.coppeliarobotics.com/viewtopic.php?t=5367\n",
    "\n",
    "Coppelia Admin suggests to use the `Models/tools/Denavit Hartenberg parameter extractor.ttm` tool, which I did."
   ]
  },
  {
   "cell_type": "markdown",
   "metadata": {},
   "source": [
    "Extracting D-H parameters using CoppeliaSim:\n",
    "\n",
    "##### Left arm\n",
    "\n",
    "```\n",
    "Between 'l_shoulder_joint' and 'l_biceps_joint':\n",
    "    d=0.0180\n",
    "    theta=90.0\n",
    "    a=0.0120\n",
    "    alpha=90.0\n",
    "\n",
    "Between 'l_biceps_joint' and 'l_elbow_joint':\n",
    "    d=0.0000\n",
    "    theta=-0.7\n",
    "    a=0.0435\n",
    "    alpha=0.0\n",
    "```\n",
    "\n",
    "##### Right arm\n",
    "\n",
    "```\n",
    "Between 'r_shoulder_joint' and 'r_biceps_joint':\n",
    "    d=0.0180\n",
    "    theta=-90.0\n",
    "    a=0.0120\n",
    "    alpha=-90.0\n",
    "\n",
    "Between 'r_biceps_joint' and 'r_elbow_joint':\n",
    "    d=0.0000\n",
    "    theta=0.7\n",
    "    a=0.0435\n",
    "    alpha=0.0\n",
    "```\n",
    "\n",
    "##### Left leg\n",
    "\n",
    "```\n",
    "Between 'l_hip_joint' and 'l_thigh_joint':\n",
    "    d=0.0180\n",
    "    theta=0.0\n",
    "    a=0.0060\n",
    "    alpha=90.0\n",
    "\n",
    "Between 'l_thigh_joint' and 'l_knee_joint':\n",
    "    d=0.0000\n",
    "    theta=-0.0\n",
    "    a=0.0450\n",
    "    alpha=0.0\n",
    "\n",
    "Between 'l_knee_joint' and 'l_ankle_joint':\n",
    "    d=0.0000\n",
    "    theta=-0.0\n",
    "    a=0.0420\n",
    "    alpha=0.0\n",
    "\n",
    "Between 'l_ankle_joint' and 'l_foot_joint':\n",
    "    d=0.0011\n",
    "    theta=179.8\n",
    "    a=0.0060\n",
    "    alpha=90.0\n",
    "```\n",
    "\n",
    "##### Right leg\n",
    "\n",
    "```\n",
    "Between 'r_hip_joint' and 'r_thigh_joint':\n",
    "    d=0.0180\n",
    "    theta=-0.0\n",
    "    a=0.0060\n",
    "    alpha=-90.0\n",
    "\n",
    "Between 'r_thigh_joint' and 'r_knee_joint':\n",
    "    d=0.0000\n",
    "    theta=0.0\n",
    "    a=0.0450\n",
    "    alpha=0.0\n",
    "\n",
    "Between 'r_knee_joint' and 'r_ankle_joint':\n",
    "    d=0.0000\n",
    "    theta=0.0\n",
    "    a=0.0420\n",
    "    alpha=0.0\n",
    "\n",
    "Between 'r_ankle_joint' and 'r_foot_joint':\n",
    "    d=0.0010\n",
    "    theta=-179.8\n",
    "    a=0.0060\n",
    "    alpha=-90.0\n",
    "```"
   ]
  },
  {
   "cell_type": "markdown",
   "metadata": {},
   "source": [
    "In order to understand whether these are correct, I updated my V-REP scene, and added a frame of reference object to each joint of the scene.  At the same time, I cleaned up the joints, and made sure they follow the D-H conventions:\n",
    "\n",
    "- x axis of the next link based at the common normal intersection\n",
    "- x axis of the next link pointing away from the previous link"
   ]
  },
  {
   "cell_type": "markdown",
   "metadata": {},
   "source": [
    "Saved the scene as `darwin_mini_ref.ttt`."
   ]
  },
  {
   "cell_type": "markdown",
   "metadata": {},
   "source": [
    "#### D-H parameters\n",
    "\n",
    "I measured the D-H parameters in V-REP, and (fortunately enough) obtained the same values as reported by the V-REP plugin above.  However, I later changed the hip joint (which caused a difference in theta of the hip), **and** I figured out I had to add a frame of reference in the foot, to obtain the last line of my DH table, which V-REP had not produced.\n",
    "\n",
    "*TODO: revise arms.*\n",
    "\n",
    "|Link    |  d   |theta| a/r  |alpha|\n",
    "|--------|------|-----|------|-----|\n",
    "|l_biceps|0.0180| 90.0|0.0120| 90.0|\n",
    "|l_elbow |0.0000| -0.7|0.0435|  0.0|\n",
    "\n",
    "|Link    |  d   |theta| a/r  |alpha|\n",
    "|--------|------|-----|------|-----|\n",
    "|r_biceps|0.0180|-90.0|0.0120|-90.0|\n",
    "|r_elbow |0.0000|  0.7|0.0435|  0.0|\n",
    "\n",
    "|Link    |  d   |theta| a/r  |alpha|\n",
    "|--------|------|-----|------|-----|\n",
    "|l_hip   |0.0180|-90.0|0.0060| 90.0|\n",
    "|l_thigh |0.0000|  0.0|0.0450|  0.0|\n",
    "|l_knee  |0.0000|  0.0|0.0420|  0.0|\n",
    "|l_ankle |0.0010|180.0|0.0060| 90.0|\n",
    "|l_foot  |0.0040|-90.0|0.0090|-90.0|\n",
    "\n",
    "|Link    |  d   |theta| a/r  |alpha|\n",
    "|--------|------|-----|------|-----|\n",
    "|r_hip   |0.0180| 90.0|0.0060|-90.0|\n",
    "|r_thigh |0.0000|  0.0|0.0450|  0.0|\n",
    "|r_knee  |0.0000|  0.0|0.0420|  0.0|\n",
    "|r_ankle |0.0010|180.0|0.0060|-90.0|\n",
    "|r_foot  |0.0040| 90.0|0.0090| 90.0|\n"
   ]
  },
  {
   "cell_type": "markdown",
   "metadata": {},
   "source": [
    "As an aside, here is where the 0.7 deg angle of the elbow link come from."
   ]
  },
  {
   "cell_type": "code",
   "execution_count": 17,
   "metadata": {},
   "outputs": [
    {
     "data": {
      "text/plain": [
       "0.6585431767973742"
      ]
     },
     "execution_count": 17,
     "metadata": {},
     "output_type": "execute_result"
    }
   ],
   "source": [
    "from math import tanh\n",
    "from numpy import rad2deg\n",
    "rad2deg(tanh(.0005/(0.178-0.1345)))"
   ]
  },
  {
   "cell_type": "code",
   "execution_count": 48,
   "metadata": {},
   "outputs": [
    {
     "data": {
      "text/plain": [
       "0.04349999999999998"
      ]
     },
     "execution_count": 48,
     "metadata": {},
     "output_type": "execute_result"
    }
   ],
   "source": [
    "0.178-0.1345"
   ]
  },
  {
   "cell_type": "markdown",
   "metadata": {},
   "source": [
    "OK, now let's see if we can use the `pypot.kinematics` module."
   ]
  },
  {
   "cell_type": "code",
   "execution_count": 1,
   "metadata": {},
   "outputs": [],
   "source": [
    "from pypot.kinematics import Link, Chain\n",
    "from numpy import deg2rad"
   ]
  },
  {
   "cell_type": "code",
   "execution_count": 11,
   "metadata": {},
   "outputs": [],
   "source": [
    "import numpy as np\n",
    "np.set_printoptions(precision=3, suppress=True)"
   ]
  },
  {
   "cell_type": "markdown",
   "metadata": {},
   "source": [
    "Start from the hip joint, and add a last frame of ref in the foot, following the DH convention.  Then, we will need to define the transformation between this last frame of ref and the base of the foot on the floor (= \"end effector\")."
   ]
  },
  {
   "cell_type": "markdown",
   "metadata": {},
   "source": [
    "Note: At first, I had defined an additional \"fake joint\" between the pelvis and the hip, but this turned out not to be correct.  Instead, I had to define a frame of reference in the foot, to which the last link in the chain would map the foot joint to."
   ]
  },
  {
   "cell_type": "code",
   "execution_count": 2,
   "metadata": {},
   "outputs": [],
   "source": [
    "#l_biceps = Link(d=0.0180, theta=deg2rad(90.0), a=0.0120, alpha=deg2rad(90.0))\n",
    "#l_elbow  = Link(d=0.0000, theta=deg2rad(-0.7), a=0.0435, alpha=deg2rad(0.0))\n",
    "\n",
    "#r_biceps = Link(d=0.0180, theta=deg2rad(-90.0), a=0.0120, alpha=deg2rad(-90.0))\n",
    "#r_elbow  = Link(d=0.0000, theta=deg2rad(0.7), a=0.0435, alpha=0.0)\n",
    "\n",
    "l_hip    = Link(d=0.0180, theta=deg2rad(-90.0), a=0.0060, alpha=deg2rad(90.0))\n",
    "l_thigh  = Link(d=0.0000, theta=0.0, a=0.0450, alpha=0.0)\n",
    "l_knee   = Link(d=0.0000, theta=0.0, a=0.0420, alpha=0.0)\n",
    "l_ankle  = Link(d=0.0010, theta=deg2rad(180.0), a=0.0060, alpha=deg2rad(90.0))\n",
    "l_foot   = Link(d=0.0040, theta=deg2rad(-90.0), a=0.0090, alpha=deg2rad(-90.0))\n",
    "\n",
    "r_hip    = Link(d=0.0180, theta=deg2rad(90.0), a=0.0060, alpha=deg2rad(-90.0))\n",
    "r_thigh  = Link(d=0.0000, theta=0.0, a=0.0450, alpha=0.0)\n",
    "r_knee   = Link(d=0.0000, theta=0.0, a=0.0420, alpha=0.0)\n",
    "r_ankle  = Link(d=0.0010, theta=deg2rad(-180.0), a=0.0060, alpha=deg2rad(-90.0))\n",
    "r_foot   = Link(d=0.0040, theta=deg2rad(90.0), a=0.0090, alpha=deg2rad(90.0))"
   ]
  },
  {
   "cell_type": "markdown",
   "metadata": {},
   "source": [
    "Determine transformation matrices of the first joint of each kinematic chain, wrt the body."
   ]
  },
  {
   "cell_type": "code",
   "execution_count": 3,
   "metadata": {},
   "outputs": [],
   "source": [
    "# > sim.getObjectHandle('l_shoulder_joint')\n",
    "# 21\n",
    "# > sim.getObjectHandle('body_respondable')\n",
    "# 19\n",
    "# > sim.getObjectMatrix(21, 19)\n",
    "# {1, -4.144544619e-08, 6.961163308e-06, 0.001000333577, -6.961163308e-06, -1.192092896e-06, 1.000000119, 0.03899861872, -4.14383976e-08, -1.000000119, -1.192092896e-06, 0.0300001204} \n",
    "\n",
    "# l_shoulder_T = [[1, 0, 0, 0.001],\n",
    "#                 [0, 0, 1, 0.039],\n",
    "#                 [0, -1, 0, 0.030],\n",
    "#                 [0, 0, 0, 1]]\n",
    "\n",
    "# {1, 4.067101145e-08, -6.94807477e-06, 0.0009997934103, -6.94807477e-06, 1.192092896e-06, -1, -0.03900143132, -4.06619165e-08, 1, 1.192092896e-06, 0.0300001502} \n",
    "# r_shoulder_T = [[1, 0, 0, 0.001],\n",
    "#                 [0, 0, -1, -0.039],\n",
    "#                 [0, 1, 0, 0.030],\n",
    "#                 [0, 0, 0, 1]]\n",
    "\n",
    "## {1.788139343e-07, 6.794906767e-06, 1, -0.001999982633, 1.171752047e-07, 1, -6.794906767e-06, 0.02399860322, -1, 1.171765689e-07, 1.788139343e-07, -0.04199992865} \n",
    "l_hip_T = [[0, 0, 1, -0.002],\n",
    "          [1, 0, 0, 0.024],\n",
    "          [0, 1, 0, -0.042],\n",
    "          [0, 0, 0, 1]]\n",
    "\n",
    "## {-2.026557922e-06, 6.710644811e-06, 1.000000119, -0.001999982633, -5.143601811e-08, 1, -6.710644811e-06, -0.02400141023, -1.000000119, -5.144852366e-08, -2.026557922e-06, -0.04200158268} \n",
    "r_hip_T = [[0, 0, 1, -0.002],\n",
    "          [-1, 0, 0, -0.024],\n",
    "          [0, -1, 0, -0.042],\n",
    "          [0, 0, 0, 1]]\n"
   ]
  },
  {
   "cell_type": "markdown",
   "metadata": {},
   "source": [
    "Determine transformation matrices of each end effector (for now, only feet) wrt to their respective joint."
   ]
  },
  {
   "cell_type": "code",
   "execution_count": 4,
   "metadata": {},
   "outputs": [],
   "source": [
    "l_foot_T = [[0, 1, 0, 0.0],\n",
    "            [-1, 0, 0, 0.0],\n",
    "            [0, 0, 1, -0.031],\n",
    "            [0, 0, 0, 1]]\n",
    "\n",
    "r_foot_T = [[0, -1, 0, 0.0],\n",
    "            [1, 0, 0, 0.0],\n",
    "            [0, 0, 1, -0.031],\n",
    "            [0, 0, 0, 1]]\n"
   ]
  },
  {
   "cell_type": "markdown",
   "metadata": {},
   "source": [
    "(For some reason, there is a difference of 1mm in the z direction, not exactly sure why)"
   ]
  },
  {
   "cell_type": "markdown",
   "metadata": {},
   "source": [
    "Now, we can define the kinematic chains for the legs."
   ]
  },
  {
   "cell_type": "code",
   "execution_count": 5,
   "metadata": {},
   "outputs": [],
   "source": [
    "l_leg = Chain([l_hip, l_thigh, l_knee, l_ankle, l_foot], l_hip_T, l_foot_T)\n",
    "r_leg = Chain([r_hip, r_thigh, r_knee, r_ankle, r_foot], r_hip_T, r_foot_T)"
   ]
  },
  {
   "cell_type": "code",
   "execution_count": 6,
   "metadata": {},
   "outputs": [],
   "source": [
    "d = 0."
   ]
  },
  {
   "cell_type": "code",
   "execution_count": 7,
   "metadata": {},
   "outputs": [
    {
     "data": {
      "text/plain": [
       "matrix([[ 0.02 ],\n",
       "        [ 0.032],\n",
       "        [-0.16 ]])"
      ]
     },
     "execution_count": 7,
     "metadata": {},
     "output_type": "execute_result"
    }
   ],
   "source": [
    "l_foot_pos = l_leg.forward_kinematics([d, d, d, d, d])\n",
    "l_foot_pos[0][:3,3]"
   ]
  },
  {
   "cell_type": "code",
   "execution_count": 8,
   "metadata": {},
   "outputs": [
    {
     "data": {
      "text/plain": [
       "matrix([[ 0.02 ],\n",
       "        [-0.032],\n",
       "        [-0.16 ]])"
      ]
     },
     "execution_count": 8,
     "metadata": {},
     "output_type": "execute_result"
    }
   ],
   "source": [
    "r_foot_pos = r_leg.forward_kinematics([d, d, d, d, d])\n",
    "r_foot_pos[0][:3,3]"
   ]
  },
  {
   "cell_type": "code",
   "execution_count": 12,
   "metadata": {},
   "outputs": [
    {
     "data": {
      "text/plain": [
       "matrix([[ 1.   ,  0.   ,  0.   ,  0.02 ],\n",
       "        [ 0.   ,  1.   , -0.   ,  0.032],\n",
       "        [-0.   ,  0.   ,  1.   , -0.16 ],\n",
       "        [ 0.   ,  0.   ,  0.   ,  1.   ]])"
      ]
     },
     "execution_count": 12,
     "metadata": {},
     "output_type": "execute_result"
    }
   ],
   "source": [
    "l_foot_pos[0]"
   ]
  },
  {
   "cell_type": "markdown",
   "metadata": {},
   "source": [
    "OK, this looks good, since the `body_respondable` is at 160mm above the ground, so at the default joint position of 0, both feet are at -160mm wrt the body, that is, right on the ground."
   ]
  },
  {
   "cell_type": "markdown",
   "metadata": {},
   "source": [
    "Now, let's check inverse kinematics."
   ]
  },
  {
   "cell_type": "code",
   "execution_count": 13,
   "metadata": {
    "scrolled": true
   },
   "outputs": [
    {
     "data": {
      "text/plain": [
       "matrix([[-0.],\n",
       "        [ 0.],\n",
       "        [ 0.],\n",
       "        [ 0.],\n",
       "        [-0.]])"
      ]
     },
     "execution_count": 13,
     "metadata": {},
     "output_type": "execute_result"
    }
   ],
   "source": [
    "l_leg.inverse_kinematics([[1, 0, 0, 0.02],\n",
    "                          [0, 1, 0, 0.032],\n",
    "                          [0, 0, 1, -0.160],\n",
    "                          [0, 0, 0, 1]])"
   ]
  },
  {
   "cell_type": "markdown",
   "metadata": {},
   "source": [
    "OK, that wasn't super hard.\n",
    "Now, let's try to bend the leg."
   ]
  },
  {
   "cell_type": "code",
   "execution_count": 14,
   "metadata": {
    "scrolled": true
   },
   "outputs": [
    {
     "data": {
      "text/plain": [
       "matrix([[-0.005],\n",
       "        [ 1.05 ],\n",
       "        [-2.216],\n",
       "        [ 1.165],\n",
       "        [ 0.005]])"
      ]
     },
     "execution_count": 14,
     "metadata": {},
     "output_type": "execute_result"
    }
   ],
   "source": [
    "l_leg.inverse_kinematics([[1, 0, 0, 0.02],\n",
    "                          [0, 1, 0, 0.032],\n",
    "                          [0, 0, 1, -0.110],  # z position is closer to the body (=> leg is shorter)\n",
    "                          [0, 0, 0, 1]],\n",
    "                         q=np.array([0., 0.5, -0.3, 0.5, 0.]),   # initial joint position makes it easier to converge\n",
    "                         tolerance=0.002,  # need to make the tolerance tighter, as its default was 0.05\n",
    "                         max_iter=10000)   # need more iterations to converge"
   ]
  },
  {
   "cell_type": "code",
   "execution_count": 15,
   "metadata": {
    "scrolled": true
   },
   "outputs": [
    {
     "data": {
      "text/plain": [
       "matrix([[ 1.   ,  0.   ,  0.001,  0.02 ],\n",
       "        [-0.   ,  1.   , -0.   ,  0.032],\n",
       "        [-0.001, -0.   ,  1.   , -0.112],\n",
       "        [ 0.   ,  0.   ,  0.   ,  1.   ]])"
      ]
     },
     "execution_count": 15,
     "metadata": {},
     "output_type": "execute_result"
    }
   ],
   "source": [
    "l_leg.forward_kinematics([[-0.005],\n",
    "        [ 1.05 ],\n",
    "        [-2.216],\n",
    "        [ 1.165],\n",
    "        [ 0.005]])[0]"
   ]
  },
  {
   "cell_type": "code",
   "execution_count": 18,
   "metadata": {},
   "outputs": [
    {
     "data": {
      "text/plain": [
       "[-0.2864788975654116,\n",
       " 60.160568488736445,\n",
       " -126.96744740099044,\n",
       " 66.74958313274091,\n",
       " 0.2864788975654116]"
      ]
     },
     "execution_count": 18,
     "metadata": {},
     "output_type": "execute_result"
    }
   ],
   "source": [
    "list(map(rad2deg, [-0.005, 1.05, -2.216, 1.165, 0.005]))"
   ]
  },
  {
   "cell_type": "markdown",
   "metadata": {},
   "source": [
    "At least, it's doing something."
   ]
  },
  {
   "cell_type": "markdown",
   "metadata": {},
   "source": [
    "And actually, I think I can create a very simple inverse kinematic closed form (i.e. a python function) that does not need to do optimization, by just setting joints to a given angle which can be computed based on the leg length that needs to be achieved."
   ]
  },
  {
   "cell_type": "markdown",
   "metadata": {},
   "source": [
    "#### Closed form Inverse Kinematics based"
   ]
  },
  {
   "cell_type": "markdown",
   "metadata": {},
   "source": [
    "![Darwin Mini joint diagram](assets/darwin-joint-diagram.png)"
   ]
  },
  {
   "cell_type": "markdown",
   "metadata": {},
   "source": [
    "Assumption: foot is flat againsta the floot (no pitch nor roll)<br>\n",
    "=> `q0` and `q4` must have same amplitude<br>\n",
    "=> `q3 = q2 - q1`"
   ]
  },
  {
   "cell_type": "markdown",
   "metadata": {},
   "source": [
    "Define `L` as the length of the leg as seen from the front view:<br>\n",
    "`L * cos(q0) = (0.118 - 0.031 - dz)`<br>\n",
    "`L * sin(q0) = dy`"
   ]
  },
  {
   "cell_type": "markdown",
   "metadata": {},
   "source": [
    "`q0 = atan(dy / (0.118 - 0.031 - dz))`<br>\n",
    "`L = dy / sin(q0)`<br>\n"
   ]
  },
  {
   "cell_type": "markdown",
   "metadata": {},
   "source": [
    "Find the angle of the leg in the leg plane:<br>\n",
    "`alpha = atan(dx / (L - a1 + a4))`<br>\n",
    "\n",
    "Define `d` as the distance from thigh to ankle (just 2 links, thigh and lower leg):<br>\n",
    "`d = dx / sin(alpha)`<br>\n",
    "\n",
    "Compute the angles of the thigh-knee-ankle triangle:<br>\n",
    "`beta1 = acos((a2**2 + d**2 - a3**2) / (2 * a2 * d))`<br>\n",
    "`beta3 = acos((a3**2 + d**2 - a2**2) / (2 * a3 * d))`<br>\n",
    "(`beta2 = pi - beta1 - beta3`)<br>\n",
    "\n",
    "Find the angles of the thigh, knee and ankle joints:<br>\n",
    "`q1 = beta1 + alpha`<br>\n",
    "`q3 = beta3 - alpha`<br>\n",
    "`q2 = -(q1 + q3)`<br>"
   ]
  },
  {
   "cell_type": "markdown",
   "metadata": {},
   "source": [
    "Finally, find the angle of the foot:<br>\n",
    "`q4 = -q0`"
   ]
  },
  {
   "cell_type": "markdown",
   "metadata": {},
   "source": [
    "<img src=\"assets/darwin-3d-joint-config.png\" width=\"400px\">"
   ]
  },
  {
   "cell_type": "code",
   "execution_count": 19,
   "metadata": {},
   "outputs": [],
   "source": [
    "from math import sin, acos, atan\n",
    "\n",
    "\n",
    "EPS = 1e-6\n",
    "# PELVIS_HEIGHT = 0.118\n",
    "# FOOT_JOINT_HEIGHT = 0.031\n",
    "a1 = 0.006\n",
    "a2 = 0.045\n",
    "a3 = 0.042\n",
    "a4 = 0.006\n",
    "\n",
    "\n",
    "def darwin_leg_ik(dx, dy, dz):\n",
    "    assert dz >= 0  # dx and dy are allowed to be negative\n",
    "    q = [.0] * 5\n",
    "    #q[0] = atan(dy / (PELVIS_HEIGHT - FOOT_JOINT_HEIGHT - dz))\n",
    "    q[0] = atan(dy / (a1 + a2 + a3 - a4 - dz))\n",
    "    # length of the leg as seen from the front view\n",
    "    L = dy / sin(q[0]) if abs(dy) > EPS else a1 + a2 + a3 - a4 - dz\n",
    "    assert L <= a1 + a2 + a3 - a4, \"Leg cannot be extended beyond limit. Use larger dz and/or smaller dy.\"\n",
    "    # angle of the leg in the leg plane\n",
    "    alpha = atan(dx / (L - a1 + a4))\n",
    "    # distance from thigh to ankle (just 2 links, thigh and lower leg)\n",
    "    d = dx / sin(alpha) if abs(dx) > EPS else L - a1 + a4\n",
    "    assert d <= a2 + a3, \"Leg cannot be extended beyond limit. Use larger dz, smaller dy and/or smaller dx.\"\n",
    "    # angles of the thigh-knee-ankle triangle\n",
    "    beta1 = acos((a2**2 + d**2 - a3**2) / (2 * a2 * d))\n",
    "    beta3 = acos((a3**2 + d**2 - a2**2) / (2 * a3 * d))\n",
    "    # angles of the thigh, knee and ankle joints\n",
    "    q[1] = beta1 + alpha\n",
    "    q[3] = beta3 - alpha\n",
    "    q[2] = -(q[1] + q[3])\n",
    "    # angle of the foot\n",
    "    q[4] = -q[0] if abs(q[0]) > EPS else 0.0\n",
    "    return q"
   ]
  },
  {
   "cell_type": "code",
   "execution_count": 20,
   "metadata": {},
   "outputs": [],
   "source": [
    "import numpy as np\n",
    "from numpy import deg2rad"
   ]
  },
  {
   "cell_type": "code",
   "execution_count": 21,
   "metadata": {
    "scrolled": false
   },
   "outputs": [
    {
     "name": "stdout",
     "output_type": "stream",
     "text": [
      "(0.0, 0.0, 0.0) [0.0, 0.0, -1.4901161193847656e-08, 1.4901161193847656e-08, 0.0]\n",
      "[ 0.02   0.032 -0.16 ]\n",
      "(0.0, 0.0, 0.0001) [0.0, 0.04632374552146888, -0.09595895906560492, 0.04963521354413603, 0.0]\n",
      "[ 0.02   0.032 -0.16 ]\n",
      "(0.01, 0.0, 0.015) [0.0, 0.6974053630099005, -1.1641812731724044, 0.46677591016250397, 0.0]\n",
      "[ 0.03   0.032 -0.145]\n",
      "(0.01, 0.0, 0.025) [0.0, 0.8917183479877758, -1.5297795358050728, 0.6380611878172969, 0.0]\n",
      "[ 0.03   0.032 -0.135]\n",
      "(0.0, 0.0, 0.025) [0.0, 0.7441512259046479, -1.556245548789148, 0.8120943228845001, 0.0]\n",
      "[ 0.02   0.032 -0.135]\n",
      "(-0.01, 0.0, 0.025) [0.0, 0.5718921016713373, -1.5297795358050728, 0.9578874341337354, 0.0]\n",
      "[ 0.01   0.032 -0.135]\n",
      "(-0.06, 0.0, 0.025) [0.0, -0.6445341446890939, -0.2578862732524676, 0.9024204179415615, 0.0]\n",
      "[-0.04   0.032 -0.135]\n",
      "(0.0, 0.01, 0.025) [0.1599131231582193, 0.7318052248295566, -1.5297795358050728, 0.7979743109755162, -0.1599131231582193]\n",
      "[ 0.02   0.042 -0.135]\n",
      "(0.01, 0.01, 0.025) [0.1599131231582193, 0.8773303299273614, -1.5032847368000186, 0.6259544068726572, -0.1599131231582193]\n",
      "[ 0.03   0.042 -0.135]\n"
     ]
    }
   ],
   "source": [
    "for p in [(.0, .0, .0),\n",
    "          (.0, .0, .0001),\n",
    "          (.01, .0, .015),\n",
    "          (.01, .0, .025),\n",
    "          (.0, .0, .025),\n",
    "          (-.01, .0, .025),\n",
    "          (-.06, .0, .025),\n",
    "          (.0, .01, .025),\n",
    "          (.01, .01, .025)]:\n",
    "    q = darwin_leg_ik(*p)\n",
    "    print(p, q)\n",
    "    print(l_leg.forward_kinematics(q)[1][-1][:3,3].flatten())"
   ]
  },
  {
   "cell_type": "markdown",
   "metadata": {},
   "source": [
    "OK, now we have solved the forward and inverse kinematics problems, let's go back to gait generation."
   ]
  },
  {
   "cell_type": "markdown",
   "metadata": {},
   "source": [
    "### Gait generation"
   ]
  },
  {
   "cell_type": "markdown",
   "metadata": {},
   "source": [
    "The following video was helpful to understand what needs to be done:<br>\n",
    "https://www.youtube.com/watch?v=EUZLMSqyd9Q"
   ]
  },
  {
   "cell_type": "markdown",
   "metadata": {},
   "source": [
    "#### Single Support Phase\n"
   ]
  },
  {
   "cell_type": "markdown",
   "metadata": {},
   "source": [
    "##### Cartesian Trajectory\n",
    "\n",
    "1. Define the COM (**pelvis**) trajectory wrt the **stable leg** foot\n",
    "1. Define the **swing leg** foot trajectory wrt the **pelvis**\n",
    "\n",
    "##### Joint Trajectory\n",
    "\n",
    "1. Apply IK on **stable leg** chain (with foot fixed) to determine stable leg joint positions\n",
    "1. Apply IK on **swing leg** chain (with pelvis fixed) to determine swing leg joint positions"
   ]
  },
  {
   "cell_type": "markdown",
   "metadata": {},
   "source": [
    "#### Double Support Phase"
   ]
  },
  {
   "cell_type": "markdown",
   "metadata": {},
   "source": [
    "..."
   ]
  }
 ],
 "metadata": {
  "anaconda-cloud": {},
  "kernelspec": {
   "display_name": "Python 3",
   "language": "python",
   "name": "python3"
  },
  "language_info": {
   "codemirror_mode": {
    "name": "ipython",
    "version": 3
   },
   "file_extension": ".py",
   "mimetype": "text/x-python",
   "name": "python",
   "nbconvert_exporter": "python",
   "pygments_lexer": "ipython3",
   "version": "3.7.4"
  }
 },
 "nbformat": 4,
 "nbformat_minor": 1
}
