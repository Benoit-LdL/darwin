{
 "cells": [
  {
   "cell_type": "markdown",
   "metadata": {},
   "source": [
    "# Darwin Mini gait generation"
   ]
  },
  {
   "cell_type": "markdown",
   "metadata": {},
   "source": [
    "<img src=\"assets/darwin-mini.png\" width=\"400px\">"
   ]
  },
  {
   "cell_type": "markdown",
   "metadata": {},
   "source": [
    "## General approach"
   ]
  },
  {
   "cell_type": "markdown",
   "metadata": {},
   "source": [
    "The overall approach should be something like:\n",
    "\n",
    "- based on a goal position, define hypothetical steps around the trajectory to the goal\n",
    "- have a rough idea of the COM trajectory\n",
    "- for each phase of the walking (DSP - SSP - DSP - SSP), define a trajectory for the joints so that the ZMP always stays within the acceptable area\n",
    "\n",
    "Actually, the following is a great resource, that explains step by step what we need to do:\n",
    "https://scaron.info/teaching/prototyping-a-walking-pattern-generator.html"
   ]
  },
  {
   "cell_type": "markdown",
   "metadata": {},
   "source": [
    "## Forward and inverse kinematics"
   ]
  },
  {
   "cell_type": "markdown",
   "metadata": {},
   "source": [
    "First, let's make sure we can compute feet position from joint configuration (forward kinematics), and required joint configuration to achieve a given feet position (inverse kinematics)."
   ]
  },
  {
   "cell_type": "markdown",
   "metadata": {},
   "source": [
    "### DH parameters"
   ]
  },
  {
   "cell_type": "markdown",
   "metadata": {},
   "source": [
    "It seems we need to express the kinematic chain(s) of the robot using the D-H parameters.\n",
    "\n",
    "Time to remember how to do this.\n",
    "\n",
    "I found a great video that explains it: https://www.youtube.com/watch?v=rA9tm0gTln8"
   ]
  },
  {
   "cell_type": "markdown",
   "metadata": {},
   "source": [
    "I updated my V-REP scene, and added a frame of reference object to each joint of the scene.  At the same time, I cleaned up the joints, and made sure they follow the D-H conventions:\n",
    "\n",
    "- x axis of the next link based at the common normal intersection\n",
    "- x axis of the next link pointing away from the previous link"
   ]
  },
  {
   "cell_type": "markdown",
   "metadata": {},
   "source": [
    "<img src=\"assets/darwin-3d-joint-config.png\" width=\"400px\">"
   ]
  },
  {
   "cell_type": "markdown",
   "metadata": {},
   "source": [
    "Saved the scene as `darwin_mini_ref.ttt`."
   ]
  },
  {
   "cell_type": "markdown",
   "metadata": {},
   "source": [
    "I measured the D-H parameters in V-REP, and (fortunately enough) obtained the same values as reported by the V-REP plugin above.  However, I later changed the hip joint (which caused a difference in theta of the hip), **and** I figured out I had to add a frame of reference in the foot, to obtain the last line of my DH table, which V-REP had not produced.\n",
    "\n",
    "*TODO: revise arms.*\n",
    "\n",
    "|Link    |  d   |theta| a/r  |alpha|\n",
    "|--------|------|-----|------|-----|\n",
    "|l_biceps|0.0180| 90.0|0.0120| 90.0|\n",
    "|l_elbow |0.0000| -0.7|0.0435|  0.0|\n",
    "\n",
    "|Link    |  d   |theta| a/r  |alpha|\n",
    "|--------|------|-----|------|-----|\n",
    "|r_biceps|0.0180|-90.0|0.0120|-90.0|\n",
    "|r_elbow |0.0000|  0.7|0.0435|  0.0|\n",
    "\n",
    "|Link    |  d   |theta| a/r  |alpha|\n",
    "|--------|------|-----|------|-----|\n",
    "|l_hip   |0.0180|-90.0|0.0060| 90.0|\n",
    "|l_thigh |0.0000|  0.0|0.0450|  0.0|\n",
    "|l_knee  |0.0000|  0.0|0.0420|  0.0|\n",
    "|l_ankle |0.0010|180.0|0.0060| 90.0|\n",
    "|l_foot  |0.0040|-90.0|0.0090|-90.0|\n",
    "\n",
    "|Link    |  d   |theta| a/r  |alpha|\n",
    "|--------|------|-----|------|-----|\n",
    "|r_hip   |0.0180| 90.0|0.0060|-90.0|\n",
    "|r_thigh |0.0000|  0.0|0.0450|  0.0|\n",
    "|r_knee  |0.0000|  0.0|0.0420|  0.0|\n",
    "|r_ankle |0.0010|180.0|0.0060|-90.0|\n",
    "|r_foot  |0.0040| 90.0|0.0090| 90.0|\n"
   ]
  },
  {
   "cell_type": "markdown",
   "metadata": {},
   "source": [
    "OK, now let's see if we can use the `pypot.kinematics` module."
   ]
  },
  {
   "cell_type": "markdown",
   "metadata": {},
   "source": [
    "### Using the `pypot.kinematics` module"
   ]
  },
  {
   "cell_type": "code",
   "execution_count": 1,
   "metadata": {},
   "outputs": [],
   "source": [
    "from pypot.kinematics import Link, Chain\n",
    "from numpy import deg2rad"
   ]
  },
  {
   "cell_type": "code",
   "execution_count": 2,
   "metadata": {},
   "outputs": [],
   "source": [
    "import numpy as np\n",
    "np.set_printoptions(precision=3, suppress=True)"
   ]
  },
  {
   "cell_type": "markdown",
   "metadata": {},
   "source": [
    "Start from the hip joint, and add a last frame of ref in the foot, following the DH convention.  Then, we will need to define the transformation between this last frame of ref and the base of the foot on the floor (= \"end effector\")."
   ]
  },
  {
   "cell_type": "markdown",
   "metadata": {},
   "source": [
    "Note: At first, I had defined an additional \"fake joint\" between the pelvis and the hip, but this turned out not to be correct.  Instead, I had to define a frame of reference in the foot, to which the last link in the chain would map the foot joint to."
   ]
  },
  {
   "cell_type": "code",
   "execution_count": 3,
   "metadata": {},
   "outputs": [],
   "source": [
    "#l_biceps = Link(d=0.0180, theta=deg2rad(90.0), a=0.0120, alpha=deg2rad(90.0))\n",
    "#l_elbow  = Link(d=0.0000, theta=deg2rad(-0.7), a=0.0435, alpha=deg2rad(0.0))\n",
    "\n",
    "#r_biceps = Link(d=0.0180, theta=deg2rad(-90.0), a=0.0120, alpha=deg2rad(-90.0))\n",
    "#r_elbow  = Link(d=0.0000, theta=deg2rad(0.7), a=0.0435, alpha=0.0)\n",
    "\n",
    "l_hip    = Link(d=0.0180, theta=deg2rad(-90.0), a=0.0060, alpha=deg2rad(90.0))\n",
    "l_thigh  = Link(d=0.0000, theta=0.0, a=0.0450, alpha=0.0)\n",
    "l_knee   = Link(d=0.0000, theta=0.0, a=0.0420, alpha=0.0)\n",
    "l_ankle  = Link(d=0.0010, theta=deg2rad(180.0), a=0.0060, alpha=deg2rad(90.0))\n",
    "l_foot   = Link(d=0.0040, theta=deg2rad(-90.0), a=0.0090, alpha=deg2rad(-90.0))\n",
    "\n",
    "r_hip    = Link(d=0.0180, theta=deg2rad(90.0), a=0.0060, alpha=deg2rad(-90.0))\n",
    "r_thigh  = Link(d=0.0000, theta=0.0, a=0.0450, alpha=0.0)\n",
    "r_knee   = Link(d=0.0000, theta=0.0, a=0.0420, alpha=0.0)\n",
    "r_ankle  = Link(d=0.0010, theta=deg2rad(-180.0), a=0.0060, alpha=deg2rad(-90.0))\n",
    "r_foot   = Link(d=0.0040, theta=deg2rad(90.0), a=0.0090, alpha=deg2rad(90.0))"
   ]
  },
  {
   "cell_type": "markdown",
   "metadata": {},
   "source": [
    "Determine transformation matrices of the first joint of each kinematic chain, wrt the body."
   ]
  },
  {
   "cell_type": "code",
   "execution_count": 4,
   "metadata": {},
   "outputs": [],
   "source": [
    "# > sim.getObjectHandle('l_shoulder_joint')\n",
    "# 21\n",
    "# > sim.getObjectHandle('body_respondable')\n",
    "# 19\n",
    "# > sim.getObjectMatrix(21, 19)\n",
    "# {1, -4.144544619e-08, 6.961163308e-06, 0.001000333577, -6.961163308e-06, -1.192092896e-06, 1.000000119, 0.03899861872, -4.14383976e-08, -1.000000119, -1.192092896e-06, 0.0300001204} \n",
    "\n",
    "# l_shoulder_T = [[1, 0, 0, 0.001],\n",
    "#                 [0, 0, 1, 0.039],\n",
    "#                 [0, -1, 0, 0.030],\n",
    "#                 [0, 0, 0, 1]]\n",
    "\n",
    "# {1, 4.067101145e-08, -6.94807477e-06, 0.0009997934103, -6.94807477e-06, 1.192092896e-06, -1, -0.03900143132, -4.06619165e-08, 1, 1.192092896e-06, 0.0300001502} \n",
    "# r_shoulder_T = [[1, 0, 0, 0.001],\n",
    "#                 [0, 0, -1, -0.039],\n",
    "#                 [0, 1, 0, 0.030],\n",
    "#                 [0, 0, 0, 1]]\n",
    "\n",
    "## {1.788139343e-07, 6.794906767e-06, 1, -0.001999982633, 1.171752047e-07, 1, -6.794906767e-06, 0.02399860322, -1, 1.171765689e-07, 1.788139343e-07, -0.04199992865} \n",
    "l_hip_T = [[0, 0, 1, -0.002],\n",
    "          [1, 0, 0, 0.024],\n",
    "          [0, 1, 0, -0.042],\n",
    "          [0, 0, 0, 1]]\n",
    "\n",
    "## {-2.026557922e-06, 6.710644811e-06, 1.000000119, -0.001999982633, -5.143601811e-08, 1, -6.710644811e-06, -0.02400141023, -1.000000119, -5.144852366e-08, -2.026557922e-06, -0.04200158268} \n",
    "r_hip_T = [[0, 0, 1, -0.002],\n",
    "          [-1, 0, 0, -0.024],\n",
    "          [0, -1, 0, -0.042],\n",
    "          [0, 0, 0, 1]]\n"
   ]
  },
  {
   "cell_type": "markdown",
   "metadata": {},
   "source": [
    "Determine transformation matrices of each end effector (for now, only feet) wrt to their respective joint."
   ]
  },
  {
   "cell_type": "code",
   "execution_count": 5,
   "metadata": {},
   "outputs": [],
   "source": [
    "l_foot_T = [[0, 1, 0, 0.0],\n",
    "            [-1, 0, 0, 0.0],\n",
    "            [0, 0, 1, -0.031],\n",
    "            [0, 0, 0, 1]]\n",
    "\n",
    "r_foot_T = [[0, -1, 0, 0.0],\n",
    "            [1, 0, 0, 0.0],\n",
    "            [0, 0, 1, -0.031],\n",
    "            [0, 0, 0, 1]]\n"
   ]
  },
  {
   "cell_type": "markdown",
   "metadata": {},
   "source": [
    "Now, we can define the kinematic chains for the legs."
   ]
  },
  {
   "cell_type": "code",
   "execution_count": 6,
   "metadata": {},
   "outputs": [],
   "source": [
    "l_leg = Chain([l_hip, l_thigh, l_knee, l_ankle, l_foot], l_hip_T, l_foot_T)\n",
    "r_leg = Chain([r_hip, r_thigh, r_knee, r_ankle, r_foot], r_hip_T, r_foot_T)"
   ]
  },
  {
   "cell_type": "code",
   "execution_count": 7,
   "metadata": {},
   "outputs": [],
   "source": [
    "d = 0."
   ]
  },
  {
   "cell_type": "code",
   "execution_count": 8,
   "metadata": {},
   "outputs": [
    {
     "data": {
      "text/plain": [
       "matrix([[ 0.02 ],\n",
       "        [ 0.032],\n",
       "        [-0.16 ]])"
      ]
     },
     "execution_count": 8,
     "metadata": {},
     "output_type": "execute_result"
    }
   ],
   "source": [
    "l_foot_pos = l_leg.forward_kinematics([d, d, d, d, d])\n",
    "l_foot_pos[0][:3,3]"
   ]
  },
  {
   "cell_type": "code",
   "execution_count": 9,
   "metadata": {},
   "outputs": [
    {
     "data": {
      "text/plain": [
       "matrix([[ 0.02 ],\n",
       "        [-0.032],\n",
       "        [-0.16 ]])"
      ]
     },
     "execution_count": 9,
     "metadata": {},
     "output_type": "execute_result"
    }
   ],
   "source": [
    "r_foot_pos = r_leg.forward_kinematics([d, d, d, d, d])\n",
    "r_foot_pos[0][:3,3]"
   ]
  },
  {
   "cell_type": "code",
   "execution_count": 10,
   "metadata": {},
   "outputs": [
    {
     "data": {
      "text/plain": [
       "matrix([[ 1.   ,  0.   ,  0.   ,  0.02 ],\n",
       "        [ 0.   ,  1.   , -0.   ,  0.032],\n",
       "        [-0.   ,  0.   ,  1.   , -0.16 ],\n",
       "        [ 0.   ,  0.   ,  0.   ,  1.   ]])"
      ]
     },
     "execution_count": 10,
     "metadata": {},
     "output_type": "execute_result"
    }
   ],
   "source": [
    "l_foot_pos[0]"
   ]
  },
  {
   "cell_type": "markdown",
   "metadata": {},
   "source": [
    "OK, this looks good, since the `body_respondable` is at 160mm above the ground, so at the default joint position of 0, both feet are at -160mm wrt the body, that is, right on the ground."
   ]
  },
  {
   "cell_type": "markdown",
   "metadata": {},
   "source": [
    "### Closed form for Inverse Kinematics"
   ]
  },
  {
   "cell_type": "markdown",
   "metadata": {},
   "source": [
    "Instead of using `pypot.kinematics` for computing inverse kinematics for Darwin Mini, we can create a very simple inverse kinematic closed form (i.e. a python function) that does not need to do optimization, just by computing joint angles based on the leg length to be achieved."
   ]
  },
  {
   "cell_type": "markdown",
   "metadata": {},
   "source": [
    "<img src=\"assets/darwin-joint-diagram.png\" width=\"600px\">"
   ]
  },
  {
   "cell_type": "markdown",
   "metadata": {},
   "source": [
    "Assumption: foot is flat againsta the floot (no pitch nor roll)<br>\n",
    "=> `q0` and `q4` must have same amplitude<br>\n",
    "=> `q3 = q2 - q1`"
   ]
  },
  {
   "cell_type": "markdown",
   "metadata": {},
   "source": [
    "Define `L` as the length of the leg as seen from the front view:<br>\n",
    "`L * cos(q0) = (0.118 - 0.031 - dz)`<br>\n",
    "`L * sin(q0) = dy`"
   ]
  },
  {
   "cell_type": "markdown",
   "metadata": {},
   "source": [
    "`q0 = atan(dy / (0.118 - 0.031 - dz))`<br>\n",
    "`L = dy / sin(q0)`<br>\n"
   ]
  },
  {
   "cell_type": "markdown",
   "metadata": {},
   "source": [
    "Find the angle of the leg in the leg plane:<br>\n",
    "`alpha = atan(dx / (L - a1 + a4))`<br>\n",
    "\n",
    "Define `d` as the distance from thigh to ankle (just 2 links, thigh and lower leg):<br>\n",
    "`d = dx / sin(alpha)`<br>\n",
    "\n",
    "Compute the angles of the thigh-knee-ankle triangle:<br>\n",
    "`beta1 = acos((a2**2 + d**2 - a3**2) / (2 * a2 * d))`<br>\n",
    "`beta3 = acos((a3**2 + d**2 - a2**2) / (2 * a3 * d))`<br>\n",
    "(`beta2 = pi - beta1 - beta3`)<br>\n",
    "\n",
    "Find the angles of the thigh, knee and ankle joints:<br>\n",
    "`q1 = beta1 + alpha`<br>\n",
    "`q3 = beta3 - alpha`<br>\n",
    "`q2 = -(q1 + q3)`<br>"
   ]
  },
  {
   "cell_type": "markdown",
   "metadata": {},
   "source": [
    "Finally, find the angle of the foot:<br>\n",
    "`q4 = -q0`"
   ]
  },
  {
   "cell_type": "code",
   "execution_count": 13,
   "metadata": {},
   "outputs": [],
   "source": [
    "from math import sin, acos, atan\n",
    "\n",
    "\n",
    "EPS = 1e-6\n",
    "# PELVIS_HEIGHT = 0.118\n",
    "# FOOT_JOINT_HEIGHT = 0.031\n",
    "a1 = 0.006\n",
    "a2 = 0.045\n",
    "a3 = 0.042\n",
    "a4 = 0.006\n",
    "\n",
    "\n",
    "def darwin_leg_ik(dx, dy, dz):\n",
    "    assert dz >= 0  # dx and dy are allowed to be negative\n",
    "    q = [.0] * 5\n",
    "    #q[0] = atan(dy / (PELVIS_HEIGHT - FOOT_JOINT_HEIGHT - dz))\n",
    "    q[0] = atan(dy / (a1 + a2 + a3 - a4 - dz))\n",
    "    # length of the leg as seen from the front view\n",
    "    L = dy / sin(q[0]) if abs(dy) > EPS else a1 + a2 + a3 - a4 - dz\n",
    "    assert L <= a1 + a2 + a3 - a4, \"Leg cannot be extended beyond limit. Use larger dz and/or smaller dy.\"\n",
    "    # angle of the leg in the leg plane\n",
    "    alpha = atan(dx / (L - a1 + a4))\n",
    "    # distance from thigh to ankle (just 2 links, thigh and lower leg)\n",
    "    d = dx / sin(alpha) if abs(dx) > EPS else L - a1 + a4\n",
    "    assert d <= a2 + a3, \"Leg cannot be extended beyond limit. Use larger dz, smaller dy and/or smaller dx.\"\n",
    "    # angles of the thigh-knee-ankle triangle\n",
    "    beta1 = acos((a2**2 + d**2 - a3**2) / (2 * a2 * d))\n",
    "    beta3 = acos((a3**2 + d**2 - a2**2) / (2 * a3 * d))\n",
    "    # angles of the thigh, knee and ankle joints\n",
    "    q[1] = beta1 + alpha\n",
    "    q[3] = beta3 - alpha\n",
    "    q[2] = -(q[1] + q[3])\n",
    "    # angle of the foot\n",
    "    q[4] = -q[0] if abs(q[0]) > EPS else 0.0\n",
    "    return q"
   ]
  },
  {
   "cell_type": "code",
   "execution_count": 14,
   "metadata": {},
   "outputs": [],
   "source": [
    "import numpy as np\n",
    "from numpy import deg2rad"
   ]
  },
  {
   "cell_type": "code",
   "execution_count": 15,
   "metadata": {
    "scrolled": false
   },
   "outputs": [
    {
     "name": "stdout",
     "output_type": "stream",
     "text": [
      "(0.0, 0.0, 0.0) [0.0, 0.0, -1.4901161193847656e-08, 1.4901161193847656e-08, 0.0]\n",
      "[ 0.02   0.032 -0.16 ]\n",
      "(0.0, 0.0, 0.0001) [0.0, 0.04632374552146888, -0.09595895906560492, 0.04963521354413603, 0.0]\n",
      "[ 0.02   0.032 -0.16 ]\n",
      "(0.01, 0.0, 0.015) [0.0, 0.6974053630099005, -1.1641812731724044, 0.46677591016250397, 0.0]\n",
      "[ 0.03   0.032 -0.145]\n",
      "(0.01, 0.0, 0.025) [0.0, 0.8917183479877758, -1.5297795358050728, 0.6380611878172969, 0.0]\n",
      "[ 0.03   0.032 -0.135]\n",
      "(0.0, 0.0, 0.025) [0.0, 0.7441512259046479, -1.556245548789148, 0.8120943228845001, 0.0]\n",
      "[ 0.02   0.032 -0.135]\n",
      "(-0.01, 0.0, 0.025) [0.0, 0.5718921016713373, -1.5297795358050728, 0.9578874341337354, 0.0]\n",
      "[ 0.01   0.032 -0.135]\n",
      "(-0.06, 0.0, 0.025) [0.0, -0.6445341446890939, -0.2578862732524676, 0.9024204179415615, 0.0]\n",
      "[-0.04   0.032 -0.135]\n",
      "(0.0, 0.01, 0.025) [0.1599131231582193, 0.7318052248295566, -1.5297795358050728, 0.7979743109755162, -0.1599131231582193]\n",
      "[ 0.02   0.042 -0.135]\n",
      "(0.01, 0.01, 0.025) [0.1599131231582193, 0.8773303299273614, -1.5032847368000186, 0.6259544068726572, -0.1599131231582193]\n",
      "[ 0.03   0.042 -0.135]\n"
     ]
    }
   ],
   "source": [
    "for p in [(.0, .0, .0),\n",
    "          (.0, .0, .0001),\n",
    "          (.01, .0, .015),\n",
    "          (.01, .0, .025),\n",
    "          (.0, .0, .025),\n",
    "          (-.01, .0, .025),\n",
    "          (-.06, .0, .025),\n",
    "          (.0, .01, .025),\n",
    "          (.01, .01, .025)]:\n",
    "    q = darwin_leg_ik(*p)\n",
    "    print(p, q)\n",
    "    print(l_leg.forward_kinematics(q)[1][-1][:3,3].flatten())"
   ]
  },
  {
   "cell_type": "markdown",
   "metadata": {},
   "source": [
    "OK, now we have solved the forward and inverse kinematics problems, let's go back to gait generation."
   ]
  },
  {
   "cell_type": "markdown",
   "metadata": {},
   "source": [
    "## Gait generation"
   ]
  },
  {
   "cell_type": "markdown",
   "metadata": {},
   "source": [
    "The following video was helpful to understand what needs to be done:<br>\n",
    "https://www.youtube.com/watch?v=EUZLMSqyd9Q"
   ]
  },
  {
   "cell_type": "markdown",
   "metadata": {},
   "source": [
    "### Single Support Phase\n"
   ]
  },
  {
   "cell_type": "markdown",
   "metadata": {},
   "source": [
    "#### Cartesian Trajectory\n",
    "\n",
    "1. Define the COM (**pelvis**) trajectory wrt the **stable leg** foot\n",
    "1. Define the **swing leg** foot trajectory wrt the **pelvis**\n",
    "\n",
    "#### Joint Trajectory\n",
    "\n",
    "1. Apply IK on **stable leg** chain (with foot fixed) to determine stable leg joint positions\n",
    "1. Apply IK on **swing leg** chain (with pelvis fixed) to determine swing leg joint positions"
   ]
  },
  {
   "cell_type": "markdown",
   "metadata": {},
   "source": [
    "### Double Support Phase"
   ]
  },
  {
   "cell_type": "markdown",
   "metadata": {},
   "source": [
    "..."
   ]
  },
  {
   "cell_type": "markdown",
   "metadata": {},
   "source": [
    "<img src=\"assets/darwin-footstep-diagram.png\" width=\"400px\">"
   ]
  },
  {
   "cell_type": "markdown",
   "metadata": {},
   "source": [
    "For a step of length `Lstep`, we:\n",
    "- move the COM of `0.5 * Lstep` in the `x` direction (from `x - 0.25 * Lstep` to `x + 0.25 * Lstep`)\n",
    "- move the swing leg of `Lstep` in the `x` direction (from `x - 0.5 * Lstep` to `x + 0.5 * Lstep`)\n",
    "\n",
    "where `x` is the position of the stable foot\n",
    "\n",
    "At the end of the step, we are back to DSP (= Double Support Phase), and\n",
    "- the COM is between both legs, at `x - 0.25 * Lstep`\n",
    "- the next swing leg (which used to be the stable leg) is now at `x - 0.5 * Lstep`\n",
    "\n",
    "where `x` = the position of the next stable foot\n",
    "\n",
    "Note: the first step is a half step, so we:\n",
    "- move the COM of `0.25 * Lstep` in the `x` direction (from `x` to `x + 0.25 * Lstep`)\n",
    "- move the swing leg of `0.5 * Lstep` in the `x` direction (from `x` to `x + 0.5 * Lstep`)"
   ]
  },
  {
   "cell_type": "code",
   "execution_count": 225,
   "metadata": {},
   "outputs": [],
   "source": [
    "from math import sqrt\n",
    "\n",
    "\n",
    "# com_height_rest = 0.160\n",
    "pelvis_height_rest = 0.118\n",
    "joint_names = ['hip', 'thigh', 'knee', 'ankle', 'foot']\n",
    "\n",
    "\n",
    "class FootstepTrajectory(object):\n",
    "    def __init__(self, step_length, step_height, x_stable, x_swing_start, pelvis_height, swing_side, duration,\n",
    "                 pelvis_start_vel=[0., 0.], pelvis_end_vel=[0., 0.]):\n",
    "        assert swing_side in ['l', 'r'], \"swing_side must be either 'l' or 'r'\"\n",
    "        assert pelvis_height < pelvis_height_rest, \"pelvis must be lower than {}\".format(pelvis_height_rest)\n",
    "        self.step_length = step_length\n",
    "        self.step_height = step_height\n",
    "        self.x_stable = x_stable\n",
    "        self.x_swing_start = x_swing_start\n",
    "        self.pelvis_height = pelvis_height\n",
    "        self.swing_side = swing_side\n",
    "        self.duration = duration\n",
    "        self.pelvis_start_vel = pelvis_start_vel\n",
    "        self.pelvis_end_vel = pelvis_end_vel\n",
    "        # assume (for now):\n",
    "        # - both feet are on the ground before starting the trajectory\n",
    "        # - pelvis is (and stays) at y = 0\n",
    "        # - pelvis start and end velocities are given as [vx, vz]\n",
    "    \n",
    "    def get_pelvis_pos(self, t):\n",
    "        L = self.step_length\n",
    "        xs = 0.5 * (self.x_stable + self.x_swing_start)\n",
    "        vs = self.pelvis_start_vel[0]\n",
    "        ve = self.pelvis_end_vel[0]\n",
    "        tf = self.duration\n",
    "        r4 = -2 * (L / (2 * tf**3) - (vs + ve) / (2 * tf**2))\n",
    "        x_pel = (xs + vs * t + ((ve - vs) / (2 * tf) - r4 * 1.5 * tf) * t**2\n",
    "                 - 2 * (L / (2 * tf**3) - (vs + ve) / (2 * tf**2)) * t**3)\n",
    "        h = self.pelvis_height\n",
    "        z_pel = sqrt(h**2 - (x_pel - self.x_stable)**2)\n",
    "        return x_pel, z_pel\n",
    "\n",
    "    def get_swing_foot_pos(self, t):\n",
    "        L = self.step_length\n",
    "        h = self.step_height\n",
    "        xs = self.x_swing_start\n",
    "        tf = self.duration\n",
    "        x_foot = xs + (3 * L / tf**2) * t**2 - (2 * L / tf**3) * t**3\n",
    "        z_foot = (4 * h * t / tf) * (1 - t / tf)\n",
    "        return x_foot, z_foot\n",
    "    \n",
    "    def get_stable_foot_disp_vs_pelvis(self, pelvis_pos):\n",
    "        x_pel, z_pel = pelvis_pos\n",
    "        dx = self.x_stable - x_pel\n",
    "        dz = pelvis_height_rest - z_pel\n",
    "        return dx, dz\n",
    "    \n",
    "    def get_swing_foot_disp_vs_pelvis(self, swing_foot_pos, pelvis_pos):\n",
    "        x_foot, z_foot = swing_foot_pos\n",
    "        x_pel, z_pel = pelvis_pos\n",
    "        dx = x_foot - x_pel\n",
    "        dz = pelvis_height_rest - z_pel - z_foot\n",
    "        return dx, dz\n",
    "\n",
    "    def __call__(self, t):\n",
    "        \"\"\"\n",
    "        Returns a map of joint positions at time t.\n",
    "        \"\"\"\n",
    "        \n",
    "        # Pelvis motion\n",
    "        pelvis_pos = self.get_pelvis_pos(t)\n",
    "        dx, dz = self.get_stable_foot_disp_vs_pelvis(pelvis_pos)\n",
    "        print('stable foot vs pelvis:  dx={:.4f}, dz={:.4f}'.format(dx, dz))\n",
    "        q_stable = darwin_leg_ik(dx, 0., dz)\n",
    "        \n",
    "        # Swing foot motion\n",
    "        swing_foot_pos = self.get_swing_foot_pos(t)\n",
    "        dx, dz = self.get_swing_foot_disp_vs_pelvis(swing_foot_pos, pelvis_pos)\n",
    "        print('swing foot vs pelvis:   dx={:.4f}, dz={:.4f}, z_foot={:.4f}'.format(dx, dz, swing_foot_pos[1]))\n",
    "        q_swing = darwin_leg_ik(dx, 0., dz)\n",
    "        \n",
    "        # Return a map of joint positions\n",
    "        stable_side = 'l' if self.swing_side == 'r' else 'r'\n",
    "        stable_joints = ['_'.join([stable_side, n, 'joint']) for n in joint_names]\n",
    "        swing_joints = ['_'.join([self.swing_side, n, 'joint']) for n in joint_names]\n",
    "        \n",
    "        return {**dict(zip(stable_joints, q_stable)),\n",
    "                **dict(zip(swing_joints, q_swing))}"
   ]
  },
  {
   "cell_type": "markdown",
   "metadata": {},
   "source": [
    "#### Initial step SSP"
   ]
  },
  {
   "cell_type": "code",
   "execution_count": 213,
   "metadata": {},
   "outputs": [],
   "source": [
    "traj = FootstepTrajectory(.05, .005, 0., 0., .088, 'r', 1.)"
   ]
  },
  {
   "cell_type": "code",
   "execution_count": 214,
   "metadata": {
    "scrolled": true
   },
   "outputs": [
    {
     "name": "stdout",
     "output_type": "stream",
     "text": [
      "stable foot vs pelvis:  dx=0.0000, dz=0.0300\n",
      "swing foot vs pelvis:   dx=0.0000, dz=0.0300, z_foot=0.0000\n",
      "stable foot vs pelvis:  dx=-0.0039, dz=0.0301\n",
      "swing foot vs pelvis:   dx=0.0039, dz=0.0263, z_foot=0.0037\n",
      "stable foot vs pelvis:  dx=-0.0125, dz=0.0309\n",
      "swing foot vs pelvis:   dx=0.0125, dz=0.0259, z_foot=0.0050\n",
      "stable foot vs pelvis:  dx=-0.0211, dz=0.0326\n",
      "swing foot vs pelvis:   dx=0.0211, dz=0.0288, z_foot=0.0037\n",
      "stable foot vs pelvis:  dx=-0.0250, dz=0.0336\n",
      "swing foot vs pelvis:   dx=0.0250, dz=0.0336, z_foot=0.0000\n"
     ]
    }
   ],
   "source": [
    "t0 = [traj(t) for t in [.0, .25, .5, .75, 1.]]"
   ]
  },
  {
   "cell_type": "markdown",
   "metadata": {},
   "source": [
    "##### Stable foot vs pelvis"
   ]
  },
  {
   "cell_type": "markdown",
   "metadata": {},
   "source": [
    "In `x`:\n",
    "- at `t0`, the stable foot is at the same `x` position as the pelvis => `dx = 0.0`\n",
    "- halfway (at `tf/2`), the pelvis has moved of 1/4 step forward, so the stable foot is behind => `dx = -0.0125`\n",
    "- at the end of the first step (at `tf`), the pelvis has moved of 1/2 step, so the stable foot is behind by half of the step size => `dx = -0.025`\n",
    "\n",
    "Note: the step size for this first step is `L = 0.05` (= half of the regular step size)\n",
    "\n",
    "In `z`:\n",
    "- at `t0`, we start at 0.88 (`dz = 0.03`)\n",
    "- at `tf`, we end a bit lower (`dz = 0.0336`), as the feet are appart from each other"
   ]
  },
  {
   "cell_type": "markdown",
   "metadata": {},
   "source": [
    "##### Swing foot vs pelvis"
   ]
  },
  {
   "cell_type": "markdown",
   "metadata": {},
   "source": [
    "In `x`:\n",
    "- at `t0`, the swing foot is at the same `x` position as the pelvis => `dx = 0.0`\n",
    "- at `tf`, the swing foot has moved of one step, so the swing step is ahead of the pelvis by half of the step size => `dx = 0.025`\n",
    "\n",
    "In `z`:\n",
    "- at `t0`, the swing foot starts at `0.0`, so `dz = 0.03` (same as stable foot)\n",
    "- halfway (at `tf/2`), the swing foot is at its highest, `0.005` above the ground, so `dz = 0.026` that is `0.005` less than the `dz` of the stable foot\n",
    "- at `tf`, the swing foot height is back to `0.0`, so `dz = 0.0336` (same as stable foot)"
   ]
  },
  {
   "cell_type": "markdown",
   "metadata": {},
   "source": [
    "#### Second step SSP"
   ]
  },
  {
   "cell_type": "code",
   "execution_count": 215,
   "metadata": {},
   "outputs": [],
   "source": [
    "traj = FootstepTrajectory(0.1, .005, .05, 0., .088, 'l', 1.)"
   ]
  },
  {
   "cell_type": "code",
   "execution_count": 216,
   "metadata": {},
   "outputs": [
    {
     "name": "stdout",
     "output_type": "stream",
     "text": [
      "stable foot vs pelvis:  dx=0.0250, dz=0.0336\n",
      "swing foot vs pelvis:   dx=-0.0250, dz=0.0336, z_foot=0.0000\n",
      "stable foot vs pelvis:  dx=0.0172, dz=0.0317\n",
      "swing foot vs pelvis:   dx=-0.0172, dz=0.0279, z_foot=0.0037\n",
      "stable foot vs pelvis:  dx=0.0000, dz=0.0300\n",
      "swing foot vs pelvis:   dx=0.0000, dz=0.0250, z_foot=0.0050\n",
      "stable foot vs pelvis:  dx=-0.0172, dz=0.0317\n",
      "swing foot vs pelvis:   dx=0.0172, dz=0.0279, z_foot=0.0037\n",
      "stable foot vs pelvis:  dx=-0.0250, dz=0.0336\n",
      "swing foot vs pelvis:   dx=0.0250, dz=0.0336, z_foot=0.0000\n"
     ]
    }
   ],
   "source": [
    "t1 = [traj(t) for t in [.0, .25, .5, .75, 1.]]"
   ]
  },
  {
   "cell_type": "markdown",
   "metadata": {},
   "source": [
    "##### Stable foot vs pelvis"
   ]
  },
  {
   "cell_type": "markdown",
   "metadata": {},
   "source": [
    "Now, we move the other leg, of a full step size of `L = 0.1`.\n",
    "\n",
    "In `x`:\n",
    "- at `t0`, the stable foot is ahead of the pelvis of 1/4 of the step size (that is, 1/2 of the initial step) => `dx = 0.025`<br>\n",
    "(note the sign is reversed wrt the previous SSP, because the stable foot is now what used to be the swing foot before, so it it *ahead* of the pelvis)\n",
    "- halfway (at `tf/2`), the pelvis has moved 1/4 step forward, and is just above the stable foot => `dx = 0.0`\n",
    "- at the end of the step (at `tf`), the pelvis has moved by 1/2 step since `t0` (i.e. is 1/4 step *ahead* of the stable foot), so the stable foot is behind by 1/4 of the step size => `dx = -0.025`\n",
    "\n",
    "In `z`:\n",
    "- at `t0`, we start at the same height as where the previous step ended (`dz = 0.0336`)\n",
    "- halfway, we are back at `z = 0.088`, that is `dz = 0.03` as the pelvis is just above the stable foot\n",
    "- at `tf`, the pelvis goes down again, to end at the same height as the beginning of the step (`dz = 0.0336`)"
   ]
  },
  {
   "cell_type": "markdown",
   "metadata": {},
   "source": [
    "##### Swing foot vs pelvis"
   ]
  },
  {
   "cell_type": "markdown",
   "metadata": {},
   "source": [
    "In `x`:\n",
    "- at `t0`, the swing foot is behind the pelvis of 1/4 of the step size => `dx = -0.025`\n",
    "- halfway, the swing foot moved 1/2 step forward and is at the same location as the pelvis => `dx = 0.0`\n",
    "- at `tf`, the swing foot moved by a full step length since `t0`, and is ahead of the pelvis by 1/4 step size => `dx = 0.025`\n",
    "\n",
    "In `z`:\n",
    "- at `t0`, the swing foot starts at `0.0`, that is `dz` is the same as for the stable foot (`dz = 0.0336`)\n",
    "- halfway, the swing foot is at its highest point, so `dz = 0.025`, that is `0.005` less than the stable foot\n",
    "- at `tf`, the swing foot height is back to the `0.0`, so `dz` is the same as for the stable foot again (`dz = 0.0336`)"
   ]
  },
  {
   "cell_type": "markdown",
   "metadata": {},
   "source": [
    "#### Third step SSP"
   ]
  },
  {
   "cell_type": "code",
   "execution_count": 217,
   "metadata": {},
   "outputs": [],
   "source": [
    "traj = FootstepTrajectory(0.1, .005, .1, .05, .088, 'r', 1.)"
   ]
  },
  {
   "cell_type": "code",
   "execution_count": 218,
   "metadata": {
    "scrolled": true
   },
   "outputs": [
    {
     "name": "stdout",
     "output_type": "stream",
     "text": [
      "stable foot vs pelvis:  dx=0.0250, dz=0.0336\n",
      "swing foot vs pelvis:   dx=-0.0250, dz=0.0336, z_foot=0.0000\n",
      "stable foot vs pelvis:  dx=0.0172, dz=0.0317\n",
      "swing foot vs pelvis:   dx=-0.0172, dz=0.0279, z_foot=0.0037\n",
      "stable foot vs pelvis:  dx=-0.0000, dz=0.0300\n",
      "swing foot vs pelvis:   dx=-0.0000, dz=0.0250, z_foot=0.0050\n",
      "stable foot vs pelvis:  dx=-0.0172, dz=0.0317\n",
      "swing foot vs pelvis:   dx=0.0172, dz=0.0279, z_foot=0.0037\n",
      "stable foot vs pelvis:  dx=-0.0250, dz=0.0336\n",
      "swing foot vs pelvis:   dx=0.0250, dz=0.0336, z_foot=0.0000\n"
     ]
    }
   ],
   "source": [
    "t2 = [traj(t) for t in [.0, .25, .5, .75, 1.]]"
   ]
  },
  {
   "cell_type": "markdown",
   "metadata": {},
   "source": [
    "We can confirm that the result is exactly the same as the second step, however, the joints should alternate."
   ]
  },
  {
   "cell_type": "code",
   "execution_count": 219,
   "metadata": {
    "scrolled": true
   },
   "outputs": [
    {
     "name": "stdout",
     "output_type": "stream",
     "text": [
      "{'r_hip_joint': 0.0, 'r_thigh_joint': 0.8172757101951849, 'r_knee_joint': -1.714143895700262, 'r_ankle_joint': 0.8968681855050772, 'r_foot_joint': 0.0, 'l_hip_joint': 0.0, 'l_thigh_joint': 0.7441512259046482, 'l_knee_joint': -1.556245548789148, 'l_ankle_joint': 0.8120943228844999, 'l_foot_joint': 0.0}\n",
      "{'l_hip_joint': 0.0, 'l_thigh_joint': 0.8172757101951846, 'l_knee_joint': -1.714143895700262, 'l_ankle_joint': 0.8968681855050774, 'l_foot_joint': 0.0, 'r_hip_joint': 0.0, 'r_thigh_joint': 0.7441512259046479, 'r_knee_joint': -1.556245548789148, 'r_ankle_joint': 0.8120943228845002, 'r_foot_joint': 0.0}\n"
     ]
    }
   ],
   "source": [
    "print(t1[2])\n",
    "print(t2[2])"
   ]
  },
  {
   "cell_type": "markdown",
   "metadata": {},
   "source": [
    "#### Last step SSP"
   ]
  },
  {
   "cell_type": "code",
   "execution_count": 222,
   "metadata": {},
   "outputs": [],
   "source": [
    "traj = FootstepTrajectory(0.05, .005, .15, .1, .088, 'l', 1.)"
   ]
  },
  {
   "cell_type": "code",
   "execution_count": 223,
   "metadata": {
    "scrolled": true
   },
   "outputs": [
    {
     "name": "stdout",
     "output_type": "stream",
     "text": [
      "stable foot vs pelvis:  dx=0.0250, dz=0.0336\n",
      "swing foot vs pelvis:   dx=-0.0250, dz=0.0336, z_foot=0.0000\n",
      "stable foot vs pelvis:  dx=0.0211, dz=0.0326\n",
      "swing foot vs pelvis:   dx=-0.0211, dz=0.0288, z_foot=0.0037\n",
      "stable foot vs pelvis:  dx=0.0125, dz=0.0309\n",
      "swing foot vs pelvis:   dx=-0.0125, dz=0.0259, z_foot=0.0050\n",
      "stable foot vs pelvis:  dx=0.0039, dz=0.0301\n",
      "swing foot vs pelvis:   dx=-0.0039, dz=0.0263, z_foot=0.0037\n",
      "stable foot vs pelvis:  dx=-0.0000, dz=0.0300\n",
      "swing foot vs pelvis:   dx=-0.0000, dz=0.0300, z_foot=0.0000\n"
     ]
    }
   ],
   "source": [
    "t3 = [traj(t) for t in [.0, .25, .5, .75, 1.]]"
   ]
  },
  {
   "cell_type": "markdown",
   "metadata": {},
   "source": [
    "Now, let's try to play this on the simulator."
   ]
  }
 ],
 "metadata": {
  "anaconda-cloud": {},
  "kernelspec": {
   "display_name": "Python 3",
   "language": "python",
   "name": "python3"
  },
  "language_info": {
   "codemirror_mode": {
    "name": "ipython",
    "version": 3
   },
   "file_extension": ".py",
   "mimetype": "text/x-python",
   "name": "python",
   "nbconvert_exporter": "python",
   "pygments_lexer": "ipython3",
   "version": "3.7.4"
  }
 },
 "nbformat": 4,
 "nbformat_minor": 1
}
